{
 "cells": [
  {
   "cell_type": "markdown",
   "metadata": {},
   "source": [
    "### Note\n",
    "* Instructions have been included for each segment. You do not have to follow them exactly, but they are included to help you think through the steps."
   ]
  },
  {
   "cell_type": "code",
   "execution_count": 149,
   "metadata": {},
   "outputs": [
    {
     "data": {
      "text/html": [
       "<div>\n",
       "<style scoped>\n",
       "    .dataframe tbody tr th:only-of-type {\n",
       "        vertical-align: middle;\n",
       "    }\n",
       "\n",
       "    .dataframe tbody tr th {\n",
       "        vertical-align: top;\n",
       "    }\n",
       "\n",
       "    .dataframe thead th {\n",
       "        text-align: right;\n",
       "    }\n",
       "</style>\n",
       "<table border=\"1\" class=\"dataframe\">\n",
       "  <thead>\n",
       "    <tr style=\"text-align: right;\">\n",
       "      <th></th>\n",
       "      <th>Purchase ID</th>\n",
       "      <th>SN</th>\n",
       "      <th>Age</th>\n",
       "      <th>Gender</th>\n",
       "      <th>Item ID</th>\n",
       "      <th>Item Name</th>\n",
       "      <th>Price</th>\n",
       "    </tr>\n",
       "  </thead>\n",
       "  <tbody>\n",
       "    <tr>\n",
       "      <td>0</td>\n",
       "      <td>0</td>\n",
       "      <td>Lisim78</td>\n",
       "      <td>20</td>\n",
       "      <td>Male</td>\n",
       "      <td>108</td>\n",
       "      <td>Extraction, Quickblade Of Trembling Hands</td>\n",
       "      <td>3.53</td>\n",
       "    </tr>\n",
       "    <tr>\n",
       "      <td>1</td>\n",
       "      <td>1</td>\n",
       "      <td>Lisovynya38</td>\n",
       "      <td>40</td>\n",
       "      <td>Male</td>\n",
       "      <td>143</td>\n",
       "      <td>Frenzied Scimitar</td>\n",
       "      <td>1.56</td>\n",
       "    </tr>\n",
       "    <tr>\n",
       "      <td>2</td>\n",
       "      <td>2</td>\n",
       "      <td>Ithergue48</td>\n",
       "      <td>24</td>\n",
       "      <td>Male</td>\n",
       "      <td>92</td>\n",
       "      <td>Final Critic</td>\n",
       "      <td>4.88</td>\n",
       "    </tr>\n",
       "    <tr>\n",
       "      <td>3</td>\n",
       "      <td>3</td>\n",
       "      <td>Chamassasya86</td>\n",
       "      <td>24</td>\n",
       "      <td>Male</td>\n",
       "      <td>100</td>\n",
       "      <td>Blindscythe</td>\n",
       "      <td>3.27</td>\n",
       "    </tr>\n",
       "    <tr>\n",
       "      <td>4</td>\n",
       "      <td>4</td>\n",
       "      <td>Iskosia90</td>\n",
       "      <td>23</td>\n",
       "      <td>Male</td>\n",
       "      <td>131</td>\n",
       "      <td>Fury</td>\n",
       "      <td>1.44</td>\n",
       "    </tr>\n",
       "  </tbody>\n",
       "</table>\n",
       "</div>"
      ],
      "text/plain": [
       "   Purchase ID             SN  Age Gender  Item ID  \\\n",
       "0            0        Lisim78   20   Male      108   \n",
       "1            1    Lisovynya38   40   Male      143   \n",
       "2            2     Ithergue48   24   Male       92   \n",
       "3            3  Chamassasya86   24   Male      100   \n",
       "4            4      Iskosia90   23   Male      131   \n",
       "\n",
       "                                   Item Name  Price  \n",
       "0  Extraction, Quickblade Of Trembling Hands   3.53  \n",
       "1                          Frenzied Scimitar   1.56  \n",
       "2                               Final Critic   4.88  \n",
       "3                                Blindscythe   3.27  \n",
       "4                                       Fury   1.44  "
      ]
     },
     "execution_count": 149,
     "metadata": {},
     "output_type": "execute_result"
    }
   ],
   "source": [
    "# Dependencies and Setup\n",
    "import pandas as pd\n",
    "\n",
    "# File to Load (Remember to Change These)\n",
    "file_to_load  = \"Resources/purchase_data.csv\"\n",
    "\n",
    "# Read Purchasing File and store into Pandas data frame\n",
    "purchase_data = pd.read_csv(file_to_load)\n",
    "purchase_data.head()"
   ]
  },
  {
   "cell_type": "markdown",
   "metadata": {},
   "source": [
    "## Player Count"
   ]
  },
  {
   "cell_type": "markdown",
   "metadata": {},
   "source": [
    "* Display the total number of players\n"
   ]
  },
  {
   "cell_type": "code",
   "execution_count": 150,
   "metadata": {},
   "outputs": [
    {
     "data": {
      "text/plain": [
       "Purchase ID    780\n",
       "SN             780\n",
       "Age            780\n",
       "Gender         780\n",
       "Item ID        780\n",
       "Item Name      780\n",
       "Price          780\n",
       "dtype: int64"
      ]
     },
     "execution_count": 150,
     "metadata": {},
     "output_type": "execute_result"
    }
   ],
   "source": [
    "# Make sure every cell of the data is filled\n",
    "purchase_data.count()\n",
    "# Every column has 780 rows so there is no empty cells in the data"
   ]
  },
  {
   "cell_type": "code",
   "execution_count": 151,
   "metadata": {},
   "outputs": [
    {
     "name": "stdout",
     "output_type": "stream",
     "text": [
      "The total number of players is: 576\n"
     ]
    },
    {
     "data": {
      "text/plain": [
       "Lisosia93       5\n",
       "Iral74          4\n",
       "Idastidru52     4\n",
       "Saedaiphos46    3\n",
       "Siallylis44     3\n",
       "               ..\n",
       "Marughi89       1\n",
       "Hailaphos89     1\n",
       "Yasur85         1\n",
       "Iduelis31       1\n",
       "Lirtassa52      1\n",
       "Name: SN, Length: 576, dtype: int64"
      ]
     },
     "execution_count": 151,
     "metadata": {},
     "output_type": "execute_result"
    }
   ],
   "source": [
    "# Notes: 1 Player can buy multiple games\n",
    "players_df    = purchase_data['SN']\n",
    "total_players = len(players_df.value_counts())\n",
    "\n",
    "print(\"The total number of players is: \" + str(total_players))\n",
    "players_df.value_counts()"
   ]
  },
  {
   "cell_type": "markdown",
   "metadata": {},
   "source": [
    "## Purchasing Analysis (Total)"
   ]
  },
  {
   "cell_type": "markdown",
   "metadata": {},
   "source": [
    "* Run basic calculations to obtain number of unique items, average price, etc.\n",
    "\n",
    "\n",
    "* Create a summary data frame to hold the results\n",
    "\n",
    "\n",
    "* Optional: give the displayed data cleaner formatting\n",
    "\n",
    "\n",
    "* Display the summary data frame\n"
   ]
  },
  {
   "cell_type": "code",
   "execution_count": 152,
   "metadata": {
    "scrolled": true
   },
   "outputs": [
    {
     "name": "stdout",
     "output_type": "stream",
     "text": [
      "The     Total     Revenue      is: 2379.77\n",
      "The  Total Number of Purchases is:  780.00\n",
      "The  Number  of  Unique Items  is:  179.00\n",
      "The  Average  Purchase  Price  is:    3.05\n"
     ]
    }
   ],
   "source": [
    "# * Number of Unique Items\n",
    "unique_values = purchase_data['Item Name'].value_counts()\n",
    "number_of_unique_items = len(unique_values)\n",
    "# * Average Purchase Price\n",
    "average_purchase_price = purchase_data['Price'].mean()\n",
    "# * Total Number of Purchases\n",
    "total_number_of_purchases = len(purchase_data['Purchase ID'])\n",
    "# * Total Revenue\n",
    "total_revenue = purchase_data['Price'].sum()\n",
    "\n",
    "print(\"The     Total     Revenue      is: \"    + str(\"%.2f\" % total_revenue))\n",
    "print(\"The  Total Number of Purchases is:  \"   + str(\"%.2f\" % total_number_of_purchases))\n",
    "print(\"The  Number  of  Unique Items  is:  \"   + str(\"%.2f\" % number_of_unique_items)) \n",
    "print(\"The  Average  Purchase  Price  is:    \" + str(\"%.2f\" % average_purchase_price))\n"
   ]
  },
  {
   "cell_type": "markdown",
   "metadata": {},
   "source": [
    "## Gender Demographics"
   ]
  },
  {
   "cell_type": "markdown",
   "metadata": {},
   "source": [
    "* Percentage and Count of Male Players\n",
    "\n",
    "\n",
    "* Percentage and Count of Female Players\n",
    "\n",
    "\n",
    "* Percentage and Count of Other / Non-Disclosed\n",
    "\n",
    "\n"
   ]
  },
  {
   "cell_type": "code",
   "execution_count": 244,
   "metadata": {
    "scrolled": true
   },
   "outputs": [
    {
     "name": "stdout",
     "output_type": "stream",
     "text": [
      "The  male  % is: 84.028%\n",
      "The female % is: 14.062%\n",
      "The Other / Non-Disclosed % is: 1.91%\n"
     ]
    },
    {
     "data": {
      "text/plain": [
       "Male                     484\n",
       "Female                    81\n",
       "Other / Non-Disclosed     11\n",
       "Name: Gender, dtype: int64"
      ]
     },
     "execution_count": 244,
     "metadata": {},
     "output_type": "execute_result"
    }
   ],
   "source": [
    "# Create a new dataframe with: ID  Gender  totalSpent\n",
    "aggregation_functions = {'Price': 'sum', 'Gender': 'first'}\n",
    "filtered_df = purchase_data.groupby(purchase_data['SN']).aggregate(aggregation_functions)\n",
    "genders_series = filtered_df['Gender'].value_counts()\n",
    "\n",
    "# Divide the number of each gender by the total player for percentages\n",
    "gender_percentages = round((genders_series / total_players) * 100,3)\n",
    "\n",
    "print(\"The  male  % is: \" + str(gender_percentages['Male'])   + '%')\n",
    "print(\"The female % is: \" + str(gender_percentages['Female']) + '%')\n",
    "print(\"The Other / Non-Disclosed % is: \" + str(gender_percentages['Other / Non-Disclosed']) + '%')\n",
    "genders_series"
   ]
  },
  {
   "cell_type": "markdown",
   "metadata": {},
   "source": [
    "\n",
    "## Purchasing Analysis (Gender)"
   ]
  },
  {
   "cell_type": "markdown",
   "metadata": {},
   "source": [
    "* Run basic calculations to obtain purchase count, avg. purchase price, avg. purchase total per person etc. by gender\n",
    "\n",
    "\n",
    "\n",
    "\n",
    "* Create a summary data frame to hold the results\n",
    "\n",
    "\n",
    "* Optional: give the displayed data cleaner formatting\n",
    "\n",
    "\n",
    "* Display the summary data frame"
   ]
  },
  {
   "cell_type": "code",
   "execution_count": 250,
   "metadata": {
    "scrolled": true
   },
   "outputs": [
    {
     "name": "stdout",
     "output_type": "stream",
     "text": [
      "Purchase count by gender:\n",
      "                          Price  Total Games Average Purchase\n",
      "Gender                                                      \n",
      "Female                  361.94          113             4.47\n",
      "Male                   1967.64          652             4.07\n",
      "Other / Non-Disclosed    50.19           15             4.56 \n",
      "\n",
      "Average Purchase Price:   4.13\n",
      "Total Purchase Value:  2379.77\n"
     ]
    }
   ],
   "source": [
    "#   * The below each broken by gender\n",
    "filtered_df[\"Total Games\"] = players_df.value_counts()\n",
    "#   * Purchase Count\n",
    "aggregation_functions = {'Price': 'sum', 'Total Games': 'sum'}\n",
    "purchase_count_by_gender = filtered_df.groupby(filtered_df['Gender']).aggregate(aggregation_functions)\n",
    "#   * Average Purchase Total per Person by Gender\n",
    "purchase_count_by_gender['Average Purchase'] = pd.Series({'Female':\" %.2f\" % (purchase_count_by_gender.at['Female', 'Price'] / genders_series['Female']),\n",
    "                                                          'Male'  :\" %.2f\" % (purchase_count_by_gender.at['Male', 'Price']   / genders_series[ 'Male' ]),\n",
    "                                                          'Other / Non-Disclosed':\" %.2f\" % (purchase_count_by_gender.at['Other / Non-Disclosed', 'Price'] / genders_series['Other / Non-Disclosed']),\n",
    "                                                         })\n",
    "#   * Average Purchase Price\n",
    "filtered_df['Price'].mean()\n",
    "#   * Total Purchase Value\n",
    "total_purchase_value = purchase_count['Price'].sum()\n",
    "\n",
    "print(\"Purchase count by gender:\\n\",purchase_count_by_gender , \"\\n\")\n",
    "print(\"Average Purchase Price:  \" + str(\" %.2f\" % filtered_df['Price'].mean()))\n",
    "print(\"Total Purchase Value: \"    + str(\" %.2f\" % total_purchase_value))\n",
    "\n",
    "\n"
   ]
  },
  {
   "cell_type": "markdown",
   "metadata": {},
   "source": [
    "## Age Demographics"
   ]
  },
  {
   "cell_type": "markdown",
   "metadata": {},
   "source": [
    "* Establish bins for ages\n",
    "\n",
    "\n",
    "* Categorize the existing players using the age bins. Hint: use pd.cut()\n",
    "\n",
    "\n",
    "* Calculate the numbers and percentages by age group\n",
    "\n",
    "\n",
    "* Create a summary data frame to hold the results\n",
    "\n",
    "\n",
    "* Optional: round the percentage column to two decimal points\n",
    "\n",
    "\n",
    "* Display Age Demographics Table\n"
   ]
  },
  {
   "cell_type": "code",
   "execution_count": 61,
   "metadata": {},
   "outputs": [
    {
     "data": {
      "text/plain": [
       "20    99\n",
       "22    70\n",
       "24    67\n",
       "23    67\n",
       "21    62\n",
       "25    59\n",
       "15    35\n",
       "30    35\n",
       "16    30\n",
       "18    26\n",
       "19    23\n",
       "17    22\n",
       "35    14\n",
       "33    14\n",
       "26    14\n",
       "29    13\n",
       "27    10\n",
       "10     9\n",
       "7      9\n",
       "34     9\n",
       "38     9\n",
       "32     8\n",
       "8      8\n",
       "11     7\n",
       "31     7\n",
       "37     7\n",
       "39     6\n",
       "40     6\n",
       "9      6\n",
       "12     6\n",
       "36     5\n",
       "28     5\n",
       "13     4\n",
       "44     2\n",
       "41     2\n",
       "14     2\n",
       "43     1\n",
       "42     1\n",
       "45     1\n",
       "Name: Age, dtype: int64"
      ]
     },
     "execution_count": 61,
     "metadata": {},
     "output_type": "execute_result"
    }
   ],
   "source": [
    "### Age Demographics\n",
    "\n",
    "#   * The below each broken into bins of 4 years (i.e. &lt;10, 10-14, 15-19, etc.)\n",
    "#   * Purchase Count\n",
    "#   * Average Purchase Price\n",
    "#   * Total Purchase Value\n",
    "#   * Average Purchase Total per Person by Age Group"
   ]
  },
  {
   "cell_type": "markdown",
   "metadata": {},
   "source": [
    "## Purchasing Analysis (Age)"
   ]
  },
  {
   "cell_type": "markdown",
   "metadata": {},
   "source": [
    "* Bin the purchase_data data frame by age\n",
    "\n",
    "\n",
    "* Run basic calculations to obtain purchase count, avg. purchase price, avg. purchase total per person etc. in the table below\n",
    "\n",
    "\n",
    "* Create a summary data frame to hold the results\n",
    "\n",
    "\n",
    "* Optional: give the displayed data cleaner formatting\n",
    "\n",
    "\n",
    "* Display the summary data frame"
   ]
  },
  {
   "cell_type": "code",
   "execution_count": null,
   "metadata": {},
   "outputs": [],
   "source": []
  },
  {
   "cell_type": "markdown",
   "metadata": {},
   "source": [
    "## Top Spenders"
   ]
  },
  {
   "cell_type": "markdown",
   "metadata": {},
   "source": [
    "* Run basic calculations to obtain the results in the table below\n",
    "\n",
    "\n",
    "* Create a summary data frame to hold the results\n",
    "\n",
    "\n",
    "* Sort the total purchase value column in descending order\n",
    "\n",
    "\n",
    "* Optional: give the displayed data cleaner formatting\n",
    "\n",
    "\n",
    "* Display a preview of the summary data frame\n",
    "\n"
   ]
  },
  {
   "cell_type": "code",
   "execution_count": null,
   "metadata": {},
   "outputs": [],
   "source": []
  },
  {
   "cell_type": "markdown",
   "metadata": {},
   "source": [
    "## Most Popular Items"
   ]
  },
  {
   "cell_type": "markdown",
   "metadata": {},
   "source": [
    "* Retrieve the Item ID, Item Name, and Item Price columns\n",
    "\n",
    "\n",
    "* Group by Item ID and Item Name. Perform calculations to obtain purchase count, item price, and total purchase value\n",
    "\n",
    "\n",
    "* Create a summary data frame to hold the results\n",
    "\n",
    "\n",
    "* Sort the purchase count column in descending order\n",
    "\n",
    "\n",
    "* Optional: give the displayed data cleaner formatting\n",
    "\n",
    "\n",
    "* Display a preview of the summary data frame\n",
    "\n"
   ]
  },
  {
   "cell_type": "code",
   "execution_count": 68,
   "metadata": {},
   "outputs": [
    {
     "data": {
      "text/html": [
       "<div>\n",
       "<style scoped>\n",
       "    .dataframe tbody tr th:only-of-type {\n",
       "        vertical-align: middle;\n",
       "    }\n",
       "\n",
       "    .dataframe tbody tr th {\n",
       "        vertical-align: top;\n",
       "    }\n",
       "\n",
       "    .dataframe thead th {\n",
       "        text-align: right;\n",
       "    }\n",
       "</style>\n",
       "<table border=\"1\" class=\"dataframe\">\n",
       "  <thead>\n",
       "    <tr style=\"text-align: right;\">\n",
       "      <th></th>\n",
       "      <th>Purchase ID</th>\n",
       "      <th>SN</th>\n",
       "      <th>Age</th>\n",
       "      <th>Gender</th>\n",
       "      <th>Item ID</th>\n",
       "      <th>Item Name</th>\n",
       "      <th>Price</th>\n",
       "    </tr>\n",
       "  </thead>\n",
       "  <tbody>\n",
       "    <tr>\n",
       "      <td>0</td>\n",
       "      <td>0</td>\n",
       "      <td>Lisim78</td>\n",
       "      <td>20</td>\n",
       "      <td>Male</td>\n",
       "      <td>108</td>\n",
       "      <td>Extraction, Quickblade Of Trembling Hands</td>\n",
       "      <td>3.53</td>\n",
       "    </tr>\n",
       "    <tr>\n",
       "      <td>1</td>\n",
       "      <td>1</td>\n",
       "      <td>Lisovynya38</td>\n",
       "      <td>40</td>\n",
       "      <td>Male</td>\n",
       "      <td>143</td>\n",
       "      <td>Frenzied Scimitar</td>\n",
       "      <td>1.56</td>\n",
       "    </tr>\n",
       "    <tr>\n",
       "      <td>2</td>\n",
       "      <td>2</td>\n",
       "      <td>Ithergue48</td>\n",
       "      <td>24</td>\n",
       "      <td>Male</td>\n",
       "      <td>92</td>\n",
       "      <td>Final Critic</td>\n",
       "      <td>4.88</td>\n",
       "    </tr>\n",
       "    <tr>\n",
       "      <td>3</td>\n",
       "      <td>3</td>\n",
       "      <td>Chamassasya86</td>\n",
       "      <td>24</td>\n",
       "      <td>Male</td>\n",
       "      <td>100</td>\n",
       "      <td>Blindscythe</td>\n",
       "      <td>3.27</td>\n",
       "    </tr>\n",
       "    <tr>\n",
       "      <td>4</td>\n",
       "      <td>4</td>\n",
       "      <td>Iskosia90</td>\n",
       "      <td>23</td>\n",
       "      <td>Male</td>\n",
       "      <td>131</td>\n",
       "      <td>Fury</td>\n",
       "      <td>1.44</td>\n",
       "    </tr>\n",
       "    <tr>\n",
       "      <td>5</td>\n",
       "      <td>5</td>\n",
       "      <td>Yalae81</td>\n",
       "      <td>22</td>\n",
       "      <td>Male</td>\n",
       "      <td>81</td>\n",
       "      <td>Dreamkiss</td>\n",
       "      <td>3.61</td>\n",
       "    </tr>\n",
       "    <tr>\n",
       "      <td>6</td>\n",
       "      <td>6</td>\n",
       "      <td>Itheria73</td>\n",
       "      <td>36</td>\n",
       "      <td>Male</td>\n",
       "      <td>169</td>\n",
       "      <td>Interrogator, Blood Blade of the Queen</td>\n",
       "      <td>2.18</td>\n",
       "    </tr>\n",
       "    <tr>\n",
       "      <td>7</td>\n",
       "      <td>7</td>\n",
       "      <td>Iskjaskst81</td>\n",
       "      <td>20</td>\n",
       "      <td>Male</td>\n",
       "      <td>162</td>\n",
       "      <td>Abyssal Shard</td>\n",
       "      <td>2.67</td>\n",
       "    </tr>\n",
       "    <tr>\n",
       "      <td>8</td>\n",
       "      <td>8</td>\n",
       "      <td>Undjask33</td>\n",
       "      <td>22</td>\n",
       "      <td>Male</td>\n",
       "      <td>21</td>\n",
       "      <td>Souleater</td>\n",
       "      <td>1.10</td>\n",
       "    </tr>\n",
       "    <tr>\n",
       "      <td>9</td>\n",
       "      <td>9</td>\n",
       "      <td>Chanosian48</td>\n",
       "      <td>35</td>\n",
       "      <td>Other / Non-Disclosed</td>\n",
       "      <td>136</td>\n",
       "      <td>Ghastly Adamantite Protector</td>\n",
       "      <td>3.58</td>\n",
       "    </tr>\n",
       "  </tbody>\n",
       "</table>\n",
       "</div>"
      ],
      "text/plain": [
       "   Purchase ID             SN  Age                 Gender  Item ID  \\\n",
       "0            0        Lisim78   20                   Male      108   \n",
       "1            1    Lisovynya38   40                   Male      143   \n",
       "2            2     Ithergue48   24                   Male       92   \n",
       "3            3  Chamassasya86   24                   Male      100   \n",
       "4            4      Iskosia90   23                   Male      131   \n",
       "5            5        Yalae81   22                   Male       81   \n",
       "6            6      Itheria73   36                   Male      169   \n",
       "7            7    Iskjaskst81   20                   Male      162   \n",
       "8            8      Undjask33   22                   Male       21   \n",
       "9            9    Chanosian48   35  Other / Non-Disclosed      136   \n",
       "\n",
       "                                   Item Name  Price  \n",
       "0  Extraction, Quickblade Of Trembling Hands   3.53  \n",
       "1                          Frenzied Scimitar   1.56  \n",
       "2                               Final Critic   4.88  \n",
       "3                                Blindscythe   3.27  \n",
       "4                                       Fury   1.44  \n",
       "5                                  Dreamkiss   3.61  \n",
       "6     Interrogator, Blood Blade of the Queen   2.18  \n",
       "7                              Abyssal Shard   2.67  \n",
       "8                                  Souleater   1.10  \n",
       "9               Ghastly Adamantite Protector   3.58  "
      ]
     },
     "execution_count": 68,
     "metadata": {},
     "output_type": "execute_result"
    }
   ],
   "source": [
    "purchase_data.head(10)"
   ]
  },
  {
   "cell_type": "markdown",
   "metadata": {},
   "source": [
    "## Most Profitable Items"
   ]
  },
  {
   "cell_type": "markdown",
   "metadata": {},
   "source": [
    "* Sort the above table by total purchase value in descending order\n",
    "\n",
    "\n",
    "* Optional: give the displayed data cleaner formatting\n",
    "\n",
    "\n",
    "* Display a preview of the data frame\n",
    "\n"
   ]
  },
  {
   "cell_type": "code",
   "execution_count": null,
   "metadata": {
    "scrolled": true
   },
   "outputs": [],
   "source": []
  }
 ],
 "metadata": {
  "anaconda-cloud": {},
  "kernel_info": {
   "name": "python3"
  },
  "kernelspec": {
   "display_name": "Python 3",
   "language": "python",
   "name": "python3"
  },
  "language_info": {
   "codemirror_mode": {
    "name": "ipython",
    "version": 3
   },
   "file_extension": ".py",
   "mimetype": "text/x-python",
   "name": "python",
   "nbconvert_exporter": "python",
   "pygments_lexer": "ipython3",
   "version": "3.7.4"
  },
  "latex_envs": {
   "LaTeX_envs_menu_present": true,
   "autoclose": false,
   "autocomplete": true,
   "bibliofile": "biblio.bib",
   "cite_by": "apalike",
   "current_citInitial": 1,
   "eqLabelWithNumbers": true,
   "eqNumInitial": 1,
   "hotkeys": {
    "equation": "Ctrl-E",
    "itemize": "Ctrl-I"
   },
   "labels_anchors": false,
   "latex_user_defs": false,
   "report_style_numbering": false,
   "user_envs_cfg": false
  },
  "nteract": {
   "version": "0.2.0"
  }
 },
 "nbformat": 4,
 "nbformat_minor": 2
}
